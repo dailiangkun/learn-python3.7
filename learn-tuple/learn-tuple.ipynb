{
 "cells": [
  {
   "cell_type": "markdown",
   "metadata": {},
   "source": [
    "# 元组学习\n",
    "戴良坤python3.7"
   ]
  },
  {
   "cell_type": "markdown",
   "metadata": {},
   "source": [
    "- Python 的元组与列表类似，不同之处在于元组的元素不能修改。\n",
    "\n",
    "元组使用小括号，列表使用方括号。\n",
    "\n",
    "元组创建很简单，只需要在括号中添加元素，并使用逗号隔开即可。如下:"
   ]
  },
  {
   "cell_type": "code",
   "execution_count": 41,
   "metadata": {},
   "outputs": [
    {
     "data": {
      "text/plain": [
       "tuple"
      ]
     },
     "execution_count": 41,
     "metadata": {},
     "output_type": "execute_result"
    }
   ],
   "source": [
    "tup1 = ('Google', 'Runoob', 1997, 2000);\n",
    "tup2 = (1, 2, 3, 4, 5 );\n",
    "tup3 = \"a\", \"b\", \"c\", \"d\";   #  不需要括号也可以\n",
    "type(tup3)\n",
    "\n"
   ]
  },
  {
   "cell_type": "markdown",
   "metadata": {},
   "source": [
    "- 创建空元组"
   ]
  },
  {
   "cell_type": "code",
   "execution_count": 42,
   "metadata": {},
   "outputs": [],
   "source": [
    "tup1 = ()"
   ]
  },
  {
   "cell_type": "markdown",
   "metadata": {},
   "source": [
    "- 元组中只包含一个元素时，需要在元素后面添加逗号，否则括号会被当作运算符使用："
   ]
  },
  {
   "cell_type": "code",
   "execution_count": 43,
   "metadata": {},
   "outputs": [
    {
     "data": {
      "text/plain": [
       "tuple"
      ]
     },
     "execution_count": 43,
     "metadata": {},
     "output_type": "execute_result"
    }
   ],
   "source": [
    "tup1 = (50)\n",
    "type(tup1)     # 不加逗号，类型为整型\n",
    "#<class 'int'>\n",
    "\n",
    "tup2 = (50,)\n",
    "type(tup2)     # 加上逗号，类型为元组\n",
    "\n"
   ]
  },
  {
   "cell_type": "markdown",
   "metadata": {},
   "source": [
    "元组与字符串类似，下标索引从0开始，可以进行截取，组合等。"
   ]
  },
  {
   "cell_type": "markdown",
   "metadata": {},
   "source": [
    "## 1、访问元组\n",
    "-元组可以使用下标索引来访问元组中的值，如下实例:"
   ]
  },
  {
   "cell_type": "code",
   "execution_count": 44,
   "metadata": {},
   "outputs": [
    {
     "name": "stdout",
     "output_type": "stream",
     "text": [
      "tup1[0]:  Google\n",
      "tup2[1:5]:  (2, 3, 4, 5)\n"
     ]
    }
   ],
   "source": [
    "tup1 = ('Google', 'Runoob', 1997, 2000)\n",
    "tup2 = (1, 2, 3, 4, 5, 6, 7 )\n",
    " \n",
    "print (\"tup1[0]: \", tup1[0])\n",
    "print (\"tup2[1:5]: \", tup2[1:5])"
   ]
  },
  {
   "cell_type": "markdown",
   "metadata": {},
   "source": [
    "## 2、修改元组\n",
    "-元组中的元素值是不允许修改的，但我们可以对元组进行连接组合，如下实例:"
   ]
  },
  {
   "cell_type": "code",
   "execution_count": 45,
   "metadata": {},
   "outputs": [
    {
     "name": "stdout",
     "output_type": "stream",
     "text": [
      "(12, 34.56, 'abc', 'xyz')\n"
     ]
    }
   ],
   "source": [
    "tup1 = (12, 34.56);\n",
    "tup2 = ('abc', 'xyz')\n",
    " \n",
    "# 以下修改元组元素操作是非法的。\n",
    "# tup1[0] = 100\n",
    " \n",
    "# 创建一个新的元组\n",
    "tup3 = tup1 + tup2;\n",
    "print (tup3)"
   ]
  },
  {
   "cell_type": "markdown",
   "metadata": {},
   "source": [
    "## 3、删除元组\n",
    "- 元组中的元素值是不允许删除的，但我们可以使用del语句来删除整个元组，如下实例:"
   ]
  },
  {
   "cell_type": "code",
   "execution_count": 46,
   "metadata": {},
   "outputs": [
    {
     "name": "stdout",
     "output_type": "stream",
     "text": [
      "('Google', 'Runoob', 1997, 2000)\n"
     ]
    },
    {
     "ename": "NameError",
     "evalue": "name 'tup' is not defined",
     "output_type": "error",
     "traceback": [
      "\u001b[1;31m---------------------------------------------------------------------------\u001b[0m",
      "\u001b[1;31mNameError\u001b[0m                                 Traceback (most recent call last)",
      "\u001b[1;32m<ipython-input-46-7fca5f5d2722>\u001b[0m in \u001b[0;36m<module>\u001b[1;34m\u001b[0m\n\u001b[0;32m      3\u001b[0m \u001b[0mprint\u001b[0m \u001b[1;33m(\u001b[0m\u001b[0mtup\u001b[0m\u001b[1;33m)\u001b[0m\u001b[1;33m\u001b[0m\u001b[1;33m\u001b[0m\u001b[0m\n\u001b[0;32m      4\u001b[0m \u001b[1;32mdel\u001b[0m \u001b[0mtup\u001b[0m\u001b[1;33m;\u001b[0m \u001b[1;31m#print (\"删除后的元组 tup : \")\u001b[0m\u001b[1;33m\u001b[0m\u001b[1;33m\u001b[0m\u001b[0m\n\u001b[1;32m----> 5\u001b[1;33m \u001b[0mprint\u001b[0m \u001b[1;33m(\u001b[0m\u001b[0mtup\u001b[0m\u001b[1;33m)\u001b[0m\u001b[1;33m\u001b[0m\u001b[1;33m\u001b[0m\u001b[0m\n\u001b[0m\u001b[0;32m      6\u001b[0m '''\n\u001b[0;32m      7\u001b[0m \u001b[0mNameError\u001b[0m                                 \u001b[0mTraceback\u001b[0m \u001b[1;33m(\u001b[0m\u001b[0mmost\u001b[0m \u001b[0mrecent\u001b[0m \u001b[0mcall\u001b[0m \u001b[0mlast\u001b[0m\u001b[1;33m)\u001b[0m\u001b[1;33m\u001b[0m\u001b[1;33m\u001b[0m\u001b[0m\n",
      "\u001b[1;31mNameError\u001b[0m: name 'tup' is not defined"
     ]
    }
   ],
   "source": [
    "tup = ('Google', 'Runoob', 1997, 2000)\n",
    " \n",
    "print (tup)\n",
    "del tup; #print (\"删除后的元组 tup : \")\n",
    "print (tup)\n",
    "'''\n",
    "NameError                                 Traceback (most recent call last)\n",
    "<ipython-input-20-2b0332a6a35f> in <module>\n",
    "      3 print (tup)\n",
    "      4 del tup; #print (\"删除后的元组 tup : \")\n",
    "----> 5 print (tup)\n",
    "\n",
    "NameError: name 'tup' is not defined\n",
    "\n",
    "'''"
   ]
  },
  {
   "cell_type": "markdown",
   "metadata": {},
   "source": [
    "## 4、元组运算符\n",
    "\n",
    "- 与字符串一样，元组之间可以使用 + 号和 * 号进行运算。这就意味着他们可以组合和复制，运算后会生成一个新的元组。\n",
    "\n",
    "| python的表达式 | 结果 | 描述 |\n",
    "|:-------|:------------|:-------------|\n",
    "| len((1, 2, 3)) | 3 | 计算元素个数 |\n",
    "| (1, 2, 3) + (4, 5, 6) | 连接 |\n",
    "| ('Hi!',) * 4  | ('Hi!', 'Hi!', 'Hi!', 'Hi!') | 复制 |\n",
    "|3 in (1, 2, 3)| True | 元素是否存在 |\n",
    "|for x in (1, 2, 3): print (x,) | 1 2 3 | 迭代 |"
   ]
  },
  {
   "cell_type": "markdown",
   "metadata": {},
   "source": [
    "## 5、元组索引，截取\n",
    "\n",
    "- 因为元组也是一个序列，所以我们可以访问元组中的指定位置的元素，也可以截取索引中的一段元素，如下所示：\n",
    "\n",
    "元组："
   ]
  },
  {
   "cell_type": "code",
   "execution_count": null,
   "metadata": {},
   "outputs": [],
   "source": [
    "L = ('Google', 'Taobao', 'Runoob')\n",
    "L = ('Google', 'Taobao', 'Runoob')\n",
    "print(L[2])  #读取第三个元素\n",
    "print(L[-2])  #反向读取；读取倒数第二个元素\n",
    "print(L[1:])  #截取元素，从第二个开始后的所有元素。"
   ]
  },
  {
   "cell_type": "markdown",
   "metadata": {},
   "source": [
    "## 6、元组内置函数\n",
    "\n",
    "- Python元组包含了以下内置函数\n",
    "\n",
    "| 序号 | 方法和描述 | 实例 |\n",
    "|:-----:|:-----------|:---------|\n",
    "| 1 | \tlen(tuple)<br>计算元组元素个数。 | tuple1 = ('Google', 'Runoob', 'Taobao')<br>len(tuple1)<br>3 |\n",
    "| 2 | max(tuple)<br>返回元组中元素最大值。 | tuple2 = ('5', '4', '8')<br>max(tuple2)<br>'8' |\n",
    "| 3 | min(tuple)<br>返回元组中元素最小值。 | tuple2 = ('5', '4', '8')<br>min(tuple2)<br>'4' |\n",
    "| 4 | \ttuple(seq)<br>将列表转换为元组。 | list1= ['Google', 'Taobao', 'Runoob', 'Baidu']<br>tuple1=tuple(list1)<br>tuple1<br>('Google', 'Taobao', 'Runoob', 'Baidu') |"
   ]
  },
  {
   "cell_type": "markdown",
   "metadata": {},
   "source": [
    "### 关于元组是不可变的\n",
    "\n",
    "- 所谓元组的不可变指的是元组所指向的内存中的内同不可变。"
   ]
  },
  {
   "cell_type": "code",
   "execution_count": 47,
   "metadata": {},
   "outputs": [
    {
     "name": "stdout",
     "output_type": "stream",
     "text": [
      "3225861651720\n",
      "3225861417464\n"
     ]
    }
   ],
   "source": [
    "tup = ('r', 'u', 'n', 'o', 'o', 'b')\n",
    "#tup[0] = 'g'     # 不支持修改元素\n",
    "#'''Traceback (most recent call last):\n",
    "#File \"<stdin>\", line 1, in <module>\n",
    "#TypeError: 'tuple' object does not support item assignment\n",
    "#'''\n",
    "print(id(tup))     # 查看内存地址\n",
    "tup = (1,2,3)\n",
    "print(id(tup)) # 结果的内存地址不一样了"
   ]
  },
  {
   "cell_type": "code",
   "execution_count": null,
   "metadata": {},
   "outputs": [],
   "source": []
  }
 ],
 "metadata": {
  "kernelspec": {
   "display_name": "Python 3",
   "language": "python",
   "name": "python3"
  },
  "language_info": {
   "codemirror_mode": {
    "name": "ipython",
    "version": 3
   },
   "file_extension": ".py",
   "mimetype": "text/x-python",
   "name": "python",
   "nbconvert_exporter": "python",
   "pygments_lexer": "ipython3",
   "version": "3.7.4"
  }
 },
 "nbformat": 4,
 "nbformat_minor": 2
}
