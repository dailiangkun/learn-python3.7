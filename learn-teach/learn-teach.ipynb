{
 "cells": [
  {
   "cell_type": "markdown",
   "metadata": {},
   "source": [
    "# Python 3 教程\n",
    "戴良坤python3.7\n"
   ]
  },
  {
   "cell_type": "markdown",
   "metadata": {},
   "source": [
    "- Python 的 3.0 版本，常被称为 Python 3000，或简称 Py3k。相对于 Python 的早期版本，这是一个较大的升级。为了不带入过多的累赘，Python 3.0 在设计的时候没有考虑向下兼容。\n",
    "\n",
    "Python 介绍及安装教程我们在Python 2.X 版本的教程中已有介绍，这里就不再赘述。\n",
    "\n",
    "你也可以点击 Python2.x与3​​.x版本区别 来查看两者的不同。\n",
    "\n",
    "本教程主要针对 Python 3.x 版本的学习，如果你使用的是 Python 2.x 版本请移步至 Python 2.X 版本的教程。\n",
    "\n",
    "官方宣布，2020 年 1 月 1 日， 停止 Python 2 的更新。"
   ]
  },
  {
   "cell_type": "markdown",
   "metadata": {},
   "source": [
    "## 查看 Python 版本\n",
    "\n",
    "- 我们可以在命令窗口(Windows 使用 win+R 调出 cmd 运行框)使用以下命令查看我们使用的 Python 版本："
   ]
  },
  {
   "cell_type": "code",
   "execution_count": 10,
   "metadata": {},
   "outputs": [],
   "source": [
    "#python -V"
   ]
  },
  {
   "cell_type": "markdown",
   "metadata": {},
   "source": [
    "- 你也可以进入Python的交互式编程模式，查看版本："
   ]
  },
  {
   "cell_type": "code",
   "execution_count": 11,
   "metadata": {},
   "outputs": [],
   "source": [
    "#Python 3.3.2 (v3.3.2:d047928ae3f6, May 16 2013, 00:03:43) [MSC v.1600 32 bit (Intel)] on win32\n",
    "#Type \"copyright\", \"credits\" or \"license()\" for more information."
   ]
  },
  {
   "cell_type": "markdown",
   "metadata": {},
   "source": [
    "## 第一个Python3.x程序\n",
    "\n",
    "- 对于大多数程序语言，第一个入门编程代码便是\"Hello World！\"，以下代码为使用Python输出\"Hello World！\"："
   ]
  },
  {
   "cell_type": "code",
   "execution_count": 12,
   "metadata": {},
   "outputs": [
    {
     "name": "stdout",
     "output_type": "stream",
     "text": [
      "Hello, World!\n"
     ]
    }
   ],
   "source": [
    "print(\"Hello, World!\")"
   ]
  },
  {
   "cell_type": "markdown",
   "metadata": {},
   "source": [
    "# Python3 简介\n",
    "\n",
    "- Python 是一个高层次的结合了解释性、编译性、互动性和面向对象的脚本语言。\n",
    "\n",
    "Python 的设计具有很强的可读性，相比其他语言经常使用英文关键字，其他语言的一些标点符号，它具有比其他语言更有特色语法结构。\n",
    "\n",
    "    Python 是一种解释型语言： 这意味着开发过程中没有了编译这个环节。类似于PHP和Perl语言。\n",
    "\n",
    "    Python 是交互式语言： 这意味着，您可以在一个 Python 提示符 >>> 后直接执行代码。\n",
    "\n",
    "    Python 是面向对象语言: 这意味着Python支持面向对象的风格或代码封装在对象的编程技术。\n",
    "\n",
    "    Python 是初学者的语言：Python 对初级程序员而言，是一种伟大的语言，它支持广泛的应用程序开发，从简单的文字处理到 WWW 浏览器再到游戏。\n"
   ]
  },
  {
   "cell_type": "markdown",
   "metadata": {},
   "source": [
    "## Python 发展历史\n",
    "\n",
    "- Python 是由 Guido van Rossum 在八十年代末和九十年代初，在荷兰国家数学和计算机科学研究所设计出来的。\n",
    "\n",
    "Python 本身也是由诸多其他语言发展而来的,这包括 ABC、Modula-3、C、C++、Algol-68、SmallTalk、Unix shell 和其他的脚本语言等等。\n",
    "\n",
    "像 Perl 语言一样，Python 源代码同样遵循 GPL(GNU General Public License)协议。\n",
    "\n",
    "现在 Python 是由一个核心开发团队在维护，Guido van Rossum 仍然占据着至关重要的作用，指导其进展。\n",
    "\n",
    "Python 2.0 于 2000 年 10 月 16 日发布，增加了实现完整的垃圾回收，并且支持 Unicode。\n",
    "\n",
    "Python 3.0 于 2008 年 12 月 3 日发布，此版不完全兼容之前的 Python 源代码。不过，很多新特性后来也被移植到旧的Python 2.6/2.7版本。\n",
    "\n",
    "Python 3.0 版本，常被称为 Python 3000，或简称 Py3k。相对于 Python 的早期版本，这是一个较大的升级。\n",
    "\n",
    "Python 2.7 被确定为最后一个 Python 2.x 版本，它除了支持 Python 2.x 语法外，还支持部分 Python 3.1 语法。"
   ]
  },
  {
   "cell_type": "markdown",
   "metadata": {},
   "source": [
    "## Python 特点\n",
    "\n",
    "    1.易于学习：Python有相对较少的关键字，结构简单，和一个明确定义的语法，学习起来更加简单。\n",
    "\n",
    "    2.易于阅读：Python代码定义的更清晰。\n",
    "\n",
    "    3.易于维护：Python的成功在于它的源代码是相当容易维护的。\n",
    "\n",
    "    4.一个广泛的标准库：Python的最大的优势之一是丰富的库，跨平台的，在UNIX，Windows和Macintosh兼容很好。\n",
    "\n",
    "    5.互动模式：互动模式的支持，您可以从终端输入执行代码并获得结果的语言，互动的测试和调试代码片断。\n",
    "\n",
    "    6.可移植：基于其开放源代码的特性，Python已经被移植（也就是使其工作）到许多平台。\n",
    "\n",
    "    7.可扩展：如果你需要一段运行很快的关键代码，或者是想要编写一些不愿开放的算法，你可以使用C或C++完成那部分程序，然后从你的Python程序中调用。\n",
    "\n",
    "    8.数据库：Python提供所有主要的商业数据库的接口。\n",
    "\n",
    "    9.GUI编程：Python支持GUI可以创建和移植到许多系统调用。\n",
    "\n",
    "    10.可嵌入: 你可以将Python嵌入到C/C++程序，让你的程序的用户获得\"脚本化\"的能力。\n"
   ]
  },
  {
   "cell_type": "markdown",
   "metadata": {},
   "source": [
    "## Python 应用\n",
    "\n",
    "    Youtube - 视频社交网站\n",
    "    Reddit - 社交分享网站\n",
    "    Dropbox - 文件分享服务\n",
    "    豆瓣网 - 图书、唱片、电影等文化产品的资料数据库网站\n",
    "    知乎 - 一个问答网站\n",
    "    果壳 - 一个泛科技主题网站\n",
    "    Bottle - Python微Web框架\n",
    "    EVE - 网络游戏EVE大量使用Python进行开发\n",
    "    Blender - 使用Python作为建模工具与GUI语言的开源3D绘图软件\n",
    "    Inkscape - 一个开源的SVG矢量图形编辑器。\n",
    "    ..."
   ]
  }
 ],
 "metadata": {
  "kernelspec": {
   "display_name": "Python 3",
   "language": "python",
   "name": "python3"
  },
  "language_info": {
   "codemirror_mode": {
    "name": "ipython",
    "version": 3
   },
   "file_extension": ".py",
   "mimetype": "text/x-python",
   "name": "python",
   "nbconvert_exporter": "python",
   "pygments_lexer": "ipython3",
   "version": "3.7.4"
  }
 },
 "nbformat": 4,
 "nbformat_minor": 2
}
