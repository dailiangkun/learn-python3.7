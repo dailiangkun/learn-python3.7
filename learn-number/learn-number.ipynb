{
 "cells": [
  {
   "cell_type": "markdown",
   "metadata": {},
   "source": [
    "# 数字学习\n",
    "戴良坤python3.7\n",
    "\n",
    "- Python 数字数据类型用于存储数值。\n",
    "\n",
    "数据类型是不允许改变的,这就意味着如果改变数字数据类型的值，将重新分配内存空间。\n",
    "\n",
    "以下实例在变量赋值时 Number 对象将被创建："
   ]
  },
  {
   "cell_type": "code",
   "execution_count": 42,
   "metadata": {},
   "outputs": [],
   "source": [
    "var1 = 1\n",
    "var2 = 10"
   ]
  },
  {
   "cell_type": "markdown",
   "metadata": {},
   "source": [
    "- 您也可以使用del语句删除一些数字对象的引用。\n",
    "\n",
    "del语句的语法是："
   ]
  },
  {
   "cell_type": "code",
   "execution_count": 46,
   "metadata": {},
   "outputs": [],
   "source": [
    "#del var1[,var2[,var3[....,varN]]]"
   ]
  },
  {
   "cell_type": "markdown",
   "metadata": {},
   "source": [
    "- 您可以通过使用del语句删除单个或多个对象的引用，例如："
   ]
  },
  {
   "cell_type": "code",
   "execution_count": 47,
   "metadata": {},
   "outputs": [],
   "source": [
    "#del var\n",
    "#del var_a, var_b"
   ]
  },
  {
   "cell_type": "markdown",
   "metadata": {},
   "source": [
    "- Python 支持三种不同的数值类型：\n",
    "\n",
    "    整型(Int) - 通常被称为是整型或整数，是正或负整数，不带小数点。Python3 整型是没有限制大小的，可以当作 Long 类型使用，所以 Python3 没有 Python2 的 Long 类型。\n",
    "    浮点型(float) - 浮点型由整数部分与小数部分组成，浮点型也可以使用科学计数法表示（2.5e2 = 2.5 x 102 = 250）\n",
    "    复数( (complex)) - 复数由实数部分和虚数部分构成，可以用a + bj,或者complex(a,b)表示， 复数的实部a和虚部b都是浮点型。\n",
    "\n",
    "我们可以使用十六进制和八进制来代表整数："
   ]
  },
  {
   "cell_type": "code",
   "execution_count": 48,
   "metadata": {},
   "outputs": [
    {
     "name": "stdout",
     "output_type": "stream",
     "text": [
      "2575\n",
      "31\n"
     ]
    }
   ],
   "source": [
    "number = 0xA0F # 十六进制\n",
    "print(number)\n",
    "\n",
    "\n",
    "number=0o37 # 八进制\n",
    "print(number)\n"
   ]
  },
  {
   "cell_type": "markdown",
   "metadata": {},
   "source": [
    "| int(整数)| float(浮点数) | complex(复杂数) |\n",
    "|:-------|:-------------|:-----------------|\n",
    "| 10 | 0.0 |3.14j|\n",
    "| 100 | 15.20 | 45.j |\n",
    "| -151 | -21.9 | 9.322e-36j |\n",
    "| 062 | 32.3e+18 | .876j |\n",
    "| -015 | -90. | .6545+0J |\n",
    "| -0x260 | -32.54e100 | 3e+26J |\n",
    "| 0x69 | 70.2E-12 | 4.53e-7j |\n",
    "\n",
    "Python支持复数，复数由实数部分和虚数部分构成，可以用a + bj,或者complex(a,b)表示， 复数的实部a和虚部b都是浮点型。 "
   ]
  },
  {
   "cell_type": "markdown",
   "metadata": {},
   "source": [
    "## 1、Python 数字类型转换\n",
    "\n",
    "有时候，我们需要对数据内置的类型进行转换，数据类型的转换，你只需要将数据类型作为函数名即可。\n",
    "\n",
    "    int(x) 将x转换为一个整数。\n",
    "\n",
    "    float(x) 将x转换到一个浮点数。\n",
    "\n",
    "    complex(x) 将x转换到一个复数，实数部分为 x，虚数部分为 0。\n",
    "\n",
    "    complex(x, y) 将 x 和 y 转换到一个复数，实数部分为 x，虚数部分为 y。x 和 y 是数字表达式。\n",
    "\n",
    "以下实例将浮点数变量 a 转换为整数："
   ]
  },
  {
   "cell_type": "code",
   "execution_count": 49,
   "metadata": {},
   "outputs": [
    {
     "data": {
      "text/plain": [
       "1"
      ]
     },
     "execution_count": 49,
     "metadata": {},
     "output_type": "execute_result"
    }
   ],
   "source": [
    "a = 1.0\n",
    "int(a)"
   ]
  },
  {
   "cell_type": "markdown",
   "metadata": {},
   "source": [
    "## 2、Python 数字运算\n",
    "\n",
    "Python 解释器可以作为一个简单的计算器，您可以在解释器里输入一个表达式，它将输出表达式的值。\n",
    "\n",
    "表达式的语法很直白： +, -, * 和 /, 和其它语言（如Pascal或C）里一样。例如："
   ]
  },
  {
   "cell_type": "code",
   "execution_count": 50,
   "metadata": {},
   "outputs": [
    {
     "name": "stdout",
     "output_type": "stream",
     "text": [
      "4\n",
      "20\n",
      "5.0\n",
      "1.6\n"
     ]
    }
   ],
   "source": [
    "print(2 + 2)\n",
    "print(50 - 5*6)\n",
    "print((50 - 5*6) / 4)\n",
    "print(8 / 5)  # 总是返回一个浮点数"
   ]
  },
  {
   "cell_type": "markdown",
   "metadata": {},
   "source": [
    "- 注意：在不同的机器上浮点运算的结果可能会不一样。\n",
    "\n",
    "在整数除法中，除法 / 总是返回一个浮点数，如果只想得到整数的结果，丢弃可能的分数部分，可以使用运算符 // ："
   ]
  },
  {
   "cell_type": "code",
   "execution_count": 51,
   "metadata": {},
   "outputs": [
    {
     "name": "stdout",
     "output_type": "stream",
     "text": [
      "5.666666666666667\n",
      "5\n",
      "2\n",
      "17\n"
     ]
    }
   ],
   "source": [
    "print(17 / 3)  # 整数除法返回浮点型\n",
    "print(17 // 3)  # 整数除法返回向下取整后的结果\n",
    "print(17 % 3)  # ％操作符返回除法的余数\n",
    "print(5 * 3 + 2)"
   ]
  },
  {
   "cell_type": "markdown",
   "metadata": {},
   "source": [
    "- 注意：// 得到的并不一定是整数类型的数，它与分母分子的数据类型有关系。"
   ]
  },
  {
   "cell_type": "code",
   "execution_count": 52,
   "metadata": {},
   "outputs": [
    {
     "name": "stdout",
     "output_type": "stream",
     "text": [
      "3\n",
      "3.0\n",
      "3.0\n"
     ]
    }
   ],
   "source": [
    "print(7//2)\n",
    "print(7.0//2)\n",
    "print(7//2.0)"
   ]
  },
  {
   "cell_type": "markdown",
   "metadata": {},
   "source": [
    "- 等号 = 用于给变量赋值。赋值之后，除了下一个提示符，解释器不会显示任何结果。 "
   ]
  },
  {
   "cell_type": "code",
   "execution_count": 53,
   "metadata": {},
   "outputs": [
    {
     "data": {
      "text/plain": [
       "900"
      ]
     },
     "execution_count": 53,
     "metadata": {},
     "output_type": "execute_result"
    }
   ],
   "source": [
    "width = 20\n",
    "height = 5*9\n",
    "width * height"
   ]
  },
  {
   "cell_type": "markdown",
   "metadata": {},
   "source": [
    "- Python 可以使用 ** 操作来进行幂运算："
   ]
  },
  {
   "cell_type": "code",
   "execution_count": 54,
   "metadata": {},
   "outputs": [
    {
     "name": "stdout",
     "output_type": "stream",
     "text": [
      "25\n",
      "128\n"
     ]
    }
   ],
   "source": [
    "print(5 ** 2)  # 5 的平方\n",
    "print(2 ** 7)  # 2的7次方"
   ]
  },
  {
   "cell_type": "markdown",
   "metadata": {},
   "source": [
    "- 变量在使用前必须先\"定义\"（即赋予变量一个值），否则会出现错误："
   ]
  },
  {
   "cell_type": "code",
   "execution_count": 56,
   "metadata": {},
   "outputs": [
    {
     "ename": "NameError",
     "evalue": "name 'n' is not defined",
     "output_type": "error",
     "traceback": [
      "\u001b[1;31m---------------------------------------------------------------------------\u001b[0m",
      "\u001b[1;31mNameError\u001b[0m                                 Traceback (most recent call last)",
      "\u001b[1;32m<ipython-input-56-c92651f7990d>\u001b[0m in \u001b[0;36m<module>\u001b[1;34m\u001b[0m\n\u001b[1;32m----> 1\u001b[1;33m \u001b[0mn\u001b[0m   \u001b[1;31m# 尝试访问一个未定义的变量\u001b[0m\u001b[1;33m\u001b[0m\u001b[1;33m\u001b[0m\u001b[0m\n\u001b[0m\u001b[0;32m      2\u001b[0m '''Traceback (most recent call last):\n\u001b[0;32m      3\u001b[0m   \u001b[0mFile\u001b[0m \u001b[1;34m\"<stdin>\"\u001b[0m\u001b[1;33m,\u001b[0m \u001b[0mline\u001b[0m \u001b[1;36m1\u001b[0m\u001b[1;33m,\u001b[0m \u001b[1;32min\u001b[0m \u001b[1;33m<\u001b[0m\u001b[0mmodule\u001b[0m\u001b[1;33m>\u001b[0m\u001b[1;33m\u001b[0m\u001b[1;33m\u001b[0m\u001b[0m\n\u001b[0;32m      4\u001b[0m \u001b[0mNameError\u001b[0m\u001b[1;33m:\u001b[0m \u001b[0mname\u001b[0m \u001b[1;34m'n'\u001b[0m \u001b[1;32mis\u001b[0m \u001b[1;32mnot\u001b[0m \u001b[0mdefined\u001b[0m\u001b[1;33m\u001b[0m\u001b[1;33m\u001b[0m\u001b[0m\n\u001b[0;32m      5\u001b[0m '''\n",
      "\u001b[1;31mNameError\u001b[0m: name 'n' is not defined"
     ]
    }
   ],
   "source": [
    "n   # 尝试访问一个未定义的变量\n",
    "'''Traceback (most recent call last):\n",
    "  File \"<stdin>\", line 1, in <module>\n",
    "NameError: name 'n' is not defined\n",
    "'''"
   ]
  },
  {
   "cell_type": "markdown",
   "metadata": {},
   "source": [
    "- 不同类型的数混合运算时会将整数转换为浮点数："
   ]
  },
  {
   "cell_type": "code",
   "execution_count": 57,
   "metadata": {},
   "outputs": [
    {
     "name": "stdout",
     "output_type": "stream",
     "text": [
      "7.5\n",
      "3.5\n"
     ]
    }
   ],
   "source": [
    "print(3 * 3.75 / 1.5)\n",
    "print(7.0 / 2)\n"
   ]
  },
  {
   "cell_type": "markdown",
   "metadata": {},
   "source": [
    "## 3、数学函数\n",
    "\n",
    "| 函数| 返回值 | 描述 |\n",
    "|:-------|:-------------|:-----------------|\n",
    "| abs(x) | 返回数字绝对值 | abs(-10)<br>10 | \n",
    "| cell(x) | 返回数字的上入整数 | math.cell(4.1)<br>5 |\n",
    "| cmp(x,y) |  | x<y 1<br>x==y  0<br> x>y  1 <br>python3已废弃，用(x>y)-(x<y)替代 |\n",
    "| exp(x) | 返回e的x次幂 | math.exp(1) <br>2.718281828459045 |\n",
    "| fabs(x | 返回数字绝对值 | abs(-10)<br>10 |\n",
    "| floor(x) | 返回数字的下舍整数 | math.flooe(4.9)<br>4 |\n",
    "| log(x) |  | math.log(math.e) 1.0<br> math.log(100,10) 2.0 |\n",
    "| log10(x)| 返回以10为基数的x的对数 | math.log10(100) 2.0 |\n",
    "| max(x1,x2) | 返回给定参数的最大值，参数可以为序列 |  |\n",
    "| min(x1,x2) | 返回给定参数的最小值，参数可以为序列 |  |\n",
    "| sqrt(x) | 返回数字x的平方根 |  |\n"
   ]
  },
  {
   "cell_type": "markdown",
   "metadata": {},
   "source": [
    "## 4、随机数函数\n",
    "\n",
    "随机数可以用于数学，游戏，安全等领域中，还经常被嵌入到算法中，用以提高算法效率，并提高程序的安全性。\n",
    "\n",
    "Python包含以下常用随机数函数：\n",
    "\n",
    "| 函数 | 描述  |\n",
    "|:-------|:-------------|\n",
    "| choice(seq) | 从序列的元素中随机挑选一个元素，比如random.choice(range(10))，从0到9中随机挑选一个整数。 | \n",
    "| randrange ([start,] stop [,step])  | 从指定范围内，按指定基数递增的集合中获取一个随机数，基数默认值为 1 |\n",
    "| random()  | 随机生成下一个实数，它在[0,1)范围内。 |\n",
    "| seed([x]) | 改变随机数生成器的种子seed。如果你不了解其原理，你不必特别去设定seed，Python会帮你选择seed。 |\n",
    "| shuffle(lst)  | 将序列的所有元素随机排序 |\n",
    "| uniform(x, y)  | 随机生成下一个实数，它在[x,y]范围内。 |"
   ]
  },
  {
   "cell_type": "markdown",
   "metadata": {},
   "source": [
    "## 5、函数\n",
    "\n",
    "Python包括以下三角函数：\n",
    "\n",
    "| 函数 | 描述  |\n",
    "|:-------|:-------------|\n",
    "| acos(x) | 返回x的反余弦弧度值。 | \n",
    "| asin(x) | 返回x的反正弦弧度值。 |\n",
    "| atan(x) | 返回x的反正切弧度值。 |\n",
    "| atan2(y, x) | 返回给定的 X 及 Y 坐标值的反正切值。 |\n",
    "| cos(x) |返回x的弧度的余弦值。 |\n",
    "| hypot(x, y)  | 返回欧几里德范数 sqrt(x*x + y*y)。 |\n",
    "| sin(x)| 返回的x弧度的正弦值。 | \n",
    "| tan(x) | \t返回x弧度的正切值。 |\n",
    "| degrees(x) | \t将弧度转换为角度,如degrees(math.pi/2) ， 返回90.0。 |\n",
    "| radians(x) | 将角度转换为弧度。 |"
   ]
  },
  {
   "cell_type": "markdown",
   "metadata": {},
   "source": [
    "## 6 、数学常量\n",
    "\n",
    "| 常量 | 描述  |\n",
    "|:-------|:-------------|\n",
    "| pi | 数学常量 pi（圆周率，一般以π来表示） | \n",
    "| e | 数学常量 e，e即自然常数（自然常数）。 |"
   ]
  },
  {
   "cell_type": "code",
   "execution_count": null,
   "metadata": {},
   "outputs": [],
   "source": []
  }
 ],
 "metadata": {
  "kernelspec": {
   "display_name": "Python 3",
   "language": "python",
   "name": "python3"
  },
  "language_info": {
   "codemirror_mode": {
    "name": "ipython",
    "version": 3
   },
   "file_extension": ".py",
   "mimetype": "text/x-python",
   "name": "python",
   "nbconvert_exporter": "python",
   "pygments_lexer": "ipython3",
   "version": "3.7.4"
  }
 },
 "nbformat": 4,
 "nbformat_minor": 2
}
