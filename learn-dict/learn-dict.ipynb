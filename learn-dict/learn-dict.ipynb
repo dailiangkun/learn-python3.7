{
 "cells": [
  {
   "cell_type": "markdown",
   "metadata": {},
   "source": [
    "# 字典学习\n",
    "戴良坤python3.7"
   ]
  },
  {
   "cell_type": "markdown",
   "metadata": {},
   "source": [
    "- 字典是另一种可变容器模型，且可存储任意类型对象。\n",
    "\n",
    "字典的每个键值(key=>value)对用冒号(:)分割，每个对之间用逗号(,)分割，整个字典包括在花括号({})中 ,格式如下所示： \n",
    "```python\n",
    "d = {key1 : value1, key2 : value2 }\n",
    "```"
   ]
  },
  {
   "cell_type": "markdown",
   "metadata": {},
   "source": [
    "- 键必须是唯一的，但值则不必。\n",
    "\n",
    "值可以取任何数据类型，但键必须是不可变的，如字符串，数字或元组。\n",
    "\n",
    "一个简单的字典实例：\n",
    "```python\n",
    "dict = {'Alice': '2341', 'Beth': '9102', 'Cecil': '3258'}\n",
    "```"
   ]
  },
  {
   "cell_type": "markdown",
   "metadata": {},
   "source": [
    "- 也可如此创建字典：\n",
    "```python\n",
    "dict1 = { 'abc': 456 }\n",
    "dict2 = { 'abc': 123, 98.6: 37 }\n",
    "```"
   ]
  },
  {
   "cell_type": "markdown",
   "metadata": {},
   "source": [
    "## 1、访问字典里的值\n",
    "\n",
    "- 把相应的键放入到方括号中，如下实例:"
   ]
  },
  {
   "cell_type": "code",
   "execution_count": 17,
   "metadata": {},
   "outputs": [
    {
     "name": "stdout",
     "output_type": "stream",
     "text": [
      "dict['Name']:  Runoob\n",
      "dict['Age']:  7\n"
     ]
    }
   ],
   "source": [
    "dict = {'Name': 'Runoob', 'Age': 7, 'Class': 'First'}\n",
    " \n",
    "print (\"dict['Name']: \", dict['Name'])\n",
    "print (\"dict['Age']: \", dict['Age'])\n"
   ]
  },
  {
   "cell_type": "markdown",
   "metadata": {},
   "source": [
    "- 如果用字典里没有的键访问数据，会输出错误如下："
   ]
  },
  {
   "cell_type": "code",
   "execution_count": 18,
   "metadata": {},
   "outputs": [
    {
     "ename": "KeyError",
     "evalue": "'Alice'",
     "output_type": "error",
     "traceback": [
      "\u001b[1;31m---------------------------------------------------------------------------\u001b[0m",
      "\u001b[1;31mKeyError\u001b[0m                                  Traceback (most recent call last)",
      "\u001b[1;32m<ipython-input-18-41d532526e89>\u001b[0m in \u001b[0;36m<module>\u001b[1;34m\u001b[0m\n\u001b[0;32m      1\u001b[0m \u001b[0mdict\u001b[0m \u001b[1;33m=\u001b[0m \u001b[1;33m{\u001b[0m\u001b[1;34m'Name'\u001b[0m\u001b[1;33m:\u001b[0m \u001b[1;34m'Runoob'\u001b[0m\u001b[1;33m,\u001b[0m \u001b[1;34m'Age'\u001b[0m\u001b[1;33m:\u001b[0m \u001b[1;36m7\u001b[0m\u001b[1;33m,\u001b[0m \u001b[1;34m'Class'\u001b[0m\u001b[1;33m:\u001b[0m \u001b[1;34m'First'\u001b[0m\u001b[1;33m}\u001b[0m\u001b[1;33m\u001b[0m\u001b[1;33m\u001b[0m\u001b[0m\n\u001b[0;32m      2\u001b[0m \u001b[1;33m\u001b[0m\u001b[0m\n\u001b[1;32m----> 3\u001b[1;33m \u001b[0mprint\u001b[0m \u001b[1;33m(\u001b[0m\u001b[1;34m\"dict['Alice']: \"\u001b[0m\u001b[1;33m,\u001b[0m \u001b[0mdict\u001b[0m\u001b[1;33m[\u001b[0m\u001b[1;34m'Alice'\u001b[0m\u001b[1;33m]\u001b[0m\u001b[1;33m)\u001b[0m\u001b[1;33m\u001b[0m\u001b[1;33m\u001b[0m\u001b[0m\n\u001b[0m\u001b[0;32m      4\u001b[0m '''\n\u001b[0;32m      5\u001b[0m \u001b[0mKeyError\u001b[0m                                  \u001b[0mTraceback\u001b[0m \u001b[1;33m(\u001b[0m\u001b[0mmost\u001b[0m \u001b[0mrecent\u001b[0m \u001b[0mcall\u001b[0m \u001b[0mlast\u001b[0m\u001b[1;33m)\u001b[0m\u001b[1;33m\u001b[0m\u001b[1;33m\u001b[0m\u001b[0m\n",
      "\u001b[1;31mKeyError\u001b[0m: 'Alice'"
     ]
    }
   ],
   "source": [
    "dict = {'Name': 'Runoob', 'Age': 7, 'Class': 'First'}\n",
    " \n",
    "print (\"dict['Alice']: \", dict['Alice'])\n",
    "'''\n",
    "KeyError                                  Traceback (most recent call last)\n",
    "<ipython-input-2-db832c6fa0ec> in <module>\n",
    "      3 dict = {'Name': 'Runoob', 'Age': 7, 'Class': 'First'}\n",
    "      4 \n",
    "----> 5 print (\"dict['Alice']: \", dict['Alice'])\n",
    "\n",
    "KeyError: 'Alice'\n",
    "'''"
   ]
  },
  {
   "cell_type": "markdown",
   "metadata": {},
   "source": [
    "## 2、修改字典\n",
    "\n",
    "- 向字典添加新内容的方法是增加新的键/值对，修改或删除已有键/值对如下实例:"
   ]
  },
  {
   "cell_type": "code",
   "execution_count": null,
   "metadata": {},
   "outputs": [],
   "source": [
    "dict = {'Name': 'Runoob', 'Age': 7, 'Class': 'First'}\n",
    " \n",
    "dict['Age'] = 8               # 更新 Age\n",
    "dict['School'] = \"菜鸟教程\"  # 添加信息\n",
    " \n",
    " \n",
    "print (\"dict['Age']: \", dict['Age'])\n",
    "print (\"dict['School']: \", dict['School'])"
   ]
  },
  {
   "cell_type": "markdown",
   "metadata": {},
   "source": [
    "## 3、删除字典元素\n",
    "\n",
    "- 能删单一的元素也能清空字典，清空只需一项操作。\n",
    "\n",
    "显示删除一个字典用del命令，如下实例："
   ]
  },
  {
   "cell_type": "code",
   "execution_count": null,
   "metadata": {},
   "outputs": [],
   "source": [
    "dict = {'Name': 'Runoob', 'Age': 7, 'Class': 'First'}\n",
    " \n",
    "del dict['Name'] # 删除键 'Name'\n",
    "dict.clear()     # 清空字典\n",
    "del dict         # 删除字典\n",
    " \n",
    "print (\"dict['Age']: \", dict['Age'])\n",
    "print (\"dict['School']: \", dict['School'])\n",
    "'''\n",
    "TypeError                                 Traceback (most recent call last)\n",
    "<ipython-input-9-acbbe1348922> in <module>\n",
    "      5 del dict         # 删除字典\n",
    "      6 \n",
    "----> 7 print (\"dict['Age']: \", dict['Age'])\n",
    "      8 print (\"dict['School']: \", dict['School'])\n",
    "\n",
    "TypeError: 'type' object is not subscriptable #因为用执行 del 操作后字典不再存在\n",
    "\n",
    "'''"
   ]
  },
  {
   "cell_type": "markdown",
   "metadata": {},
   "source": [
    "### 字典键的特性\n",
    "\n",
    "- 字典值可以是任何的 python 对象，既可以是标准的对象，也可以是用户定义的，但键不行。\n",
    "\n",
    "两个重要的点需要记住：\n",
    "\n",
    "1）不允许同一个键出现两次。创建时如果同一个键被赋值两次，后一个值会被记住，如下实例："
   ]
  },
  {
   "cell_type": "code",
   "execution_count": null,
   "metadata": {},
   "outputs": [],
   "source": [
    "dict = {'Name': 'Runoob', 'Age': 7, 'Name': '小菜鸟'}\n",
    " \n",
    "print (\"dict['Name']: \", dict['Name'])"
   ]
  },
  {
   "cell_type": "markdown",
   "metadata": {},
   "source": [
    "2）键必须不可变，所以可以用数字，字符串或元组充当，而用列表就不行，如下实例："
   ]
  },
  {
   "cell_type": "code",
   "execution_count": null,
   "metadata": {},
   "outputs": [],
   "source": [
    "dict = {['Name']: 'Runoob', 'Age': 7}\n",
    " \n",
    "print (\"dict['Name']: \", dict['Name'])\n",
    "\n",
    "'''\n",
    "TypeError                                 Traceback (most recent call last)\n",
    "<ipython-input-15-c4866a957fa9> in <module>\n",
    "----> 1 dict = {['Name']: 'Runoob', 'Age': 7}\n",
    "      2 \n",
    "      3 print (\"dict['Name']: \", dict['Name'])\n",
    "\n",
    "TypeError: unhashable type: 'list'\n",
    "\n",
    "'''"
   ]
  },
  {
   "cell_type": "markdown",
   "metadata": {},
   "source": [
    "## 4、字典内置函数&方法\n",
    "\n",
    "- Python字典包含了以下内置函数：\n",
    "\n",
    "| 序号 | 函数及描述 | 示例 |\n",
    "|:-------:|:------------|:---------------|\n",
    "| 1 | len(dict)<br>计算字典元素个数，即键的总数。| dict = {'Name': 'Runoob', 'Age': 7, 'Class': 'First'} <br> len(dict) <br> 3 |\n",
    "| 2 | str(dict)<br>输出字典，以可打印的字符串表示。 | dict = {'Name': 'Runoob', 'Age': 7, 'Class': 'First'}<br>str(dict)<br>\"{'Name': 'Runoob', 'Class': 'First', 'Age': 7}\" |\n",
    "| 3 | type(variable)<br>返回输入的变量类型，如果变量是<br>字典就返回字典类型。 | dict = {'Name': 'Runoob', 'Age': 7, 'Class': 'First'}<br>type(dict)<br><class 'dict'> |\n"
   ]
  },
  {
   "cell_type": "markdown",
   "metadata": {},
   "source": [
    "- Python字典包含了以下内置方法：\n",
    "\n",
    "| 序号 | 函数及描述 |\n",
    "|:-------:|:------------|\n",
    "| 1 | radiansdict.clear()<br>删除字典内所有元素 |\n",
    "| 2 | radiansdict.copy()<br>返回一个字典的浅复制| \n",
    "| 3 |radiansdict.fromkeys()<br>创建一个新字典，以序列seq中元素做字典的键，val为字典所有键对应的初始值 |\n",
    "| 4 |radiansdict.get(key, default=None)<br>返回指定键的值，如果值不在字典中返回default值|\n",
    "| 5 |key in dict<br>如果键在字典dict里返回true，否则返回false|\n",
    "| 6 |radiansdict.items()<br>以列表返回可遍历的(键, 值) 元组数组|\n",
    "| 7 |radiansdict.keys()<br>返回一个迭代器，可以使用 list() 来转换为列表|\n",
    "| 8 |radiansdict.setdefault(key, default=None)<br>和get()类似, 但如果键不存在于字典中，将会添加键并将值设为default|\n",
    "| 9 |radiansdict.update(dict2)<br>把字典dict2的键/值对更新到dict里|\n",
    "| 10 |radiansdict.values()<br>返回一个迭代器，可以使用 list() 来转换为列表|\n",
    "| 11 |pop(key[,default])<br>删除字典给定键 key 所对应的值，返回值为被删除的值。key值必须给出。 否则，返回default值|\n",
    "| 12 |popitem()<br>随机返回并删除字典中的最后一对键和值。|\n"
   ]
  },
  {
   "cell_type": "code",
   "execution_count": null,
   "metadata": {},
   "outputs": [],
   "source": []
  }
 ],
 "metadata": {
  "kernelspec": {
   "display_name": "Python 3",
   "language": "python",
   "name": "python3"
  },
  "language_info": {
   "codemirror_mode": {
    "name": "ipython",
    "version": 3
   },
   "file_extension": ".py",
   "mimetype": "text/x-python",
   "name": "python",
   "nbconvert_exporter": "python",
   "pygments_lexer": "ipython3",
   "version": "3.7.4"
  }
 },
 "nbformat": 4,
 "nbformat_minor": 2
}
